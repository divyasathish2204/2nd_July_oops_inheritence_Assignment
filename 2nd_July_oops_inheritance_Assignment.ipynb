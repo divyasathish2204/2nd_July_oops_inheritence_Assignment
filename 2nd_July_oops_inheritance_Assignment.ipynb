{
 "cells": [
  {
   "cell_type": "code",
   "execution_count": null,
   "id": "2687b0b5",
   "metadata": {},
   "outputs": [],
   "source": [
    "#question 1\n",
    "#Python Inheritance\n",
    "\"\"\"\n",
    "Inheritance allows us to define a class that inherits all the methods and properties from another class.\n",
    "Parent class:is the class being inherited from, also called base class.\n",
    "Child class:is the class that inherits from another class, also called derived class.\n",
    "\"\"\"\n",
    "# Benefits of inheritance\n",
    "\"\"\"Benefits of inheritance are:\n",
    "   Inheritance allows you to inherit the properties of a class, i.e., base class to another, i.e., derived class.\n",
    "   The benefits of Inheritance in Python are as follows:\n",
    "-->It represents real-world relationships well.\n",
    "-->It provides the reusability of a code. We don’t have to write the same code again and again. \n",
    "   Also, it allows us to add more features to a class without modifying it.\n",
    "-->It is transitive in nature, which means that if class B inherits from another class A, \n",
    "   then all the subclasses of B would automatically inherit from class A.\n",
    "-->Inheritance offers a simple, understandable model structure. \n",
    "-->Less development and maintenance expenses result from an inheritance.\"\"\""
   ]
  },
  {
   "cell_type": "code",
   "execution_count": 3,
   "id": "34ea082e",
   "metadata": {},
   "outputs": [
    {
     "name": "stdout",
     "output_type": "stream",
     "text": [
      "This function is in parent class.\n",
      "This function is in child class.\n"
     ]
    }
   ],
   "source": [
    "# question 2\n",
    "#single inheritance\n",
    "\"\"\"Single Inheritance: \n",
    "  Single inheritance enables a derived class to inherit properties from a single parent class, \n",
    "  thus enabling code reusability and the addition of new features to existing code.\"\"\"\n",
    "# for example\n",
    "# single inheritance\n",
    " # Base class\n",
    "class Parent:\n",
    "    def func1(self):\n",
    "        print(\"This function is in parent class.\")\n",
    " \n",
    "# Derived class\n",
    "class Child(Parent):\n",
    "    def func2(self):\n",
    "        print(\"This function is in child class.\")\n",
    "        \n",
    "object = Child()\n",
    "object.func1()\n",
    "object.func2()"
   ]
  },
  {
   "cell_type": "code",
   "execution_count": 4,
   "id": "cac87221",
   "metadata": {},
   "outputs": [
    {
     "name": "stdout",
     "output_type": "stream",
     "text": [
      "This function is in parent class.\n",
      "This function is in child class.\n",
      "this function inherited from both parent and child class\n"
     ]
    }
   ],
   "source": [
    "#multiple inheritance\n",
    "#Multiple Inheritance: \n",
    "\"\"\"When a class can be derived from more than one base class this type of inheritance is called multiple inheritances. \n",
    "In multiple inheritances, all the features of the base classes are inherited into the derived class.\"\"\"\n",
    "#for example:\n",
    "#Base class\n",
    "class parent:\n",
    "    def func1(self):\n",
    "        print(\"This function is in parent class.\")\n",
    "# another base class\n",
    "class child:\n",
    "    def func2(self):\n",
    "        print(\"This function is in child class.\")\n",
    "# derived/child class\n",
    "class child1(parent,child):\n",
    "    def func3(self):\n",
    "        print(\"this function inherited from both parent and child class\")\n",
    "        \n",
    "object = child1()\n",
    "object.func1()\n",
    "object.func2()\n",
    "object.func3()\n",
    "   "
   ]
  },
  {
   "cell_type": "code",
   "execution_count": null,
   "id": "801c744c",
   "metadata": {},
   "outputs": [],
   "source": [
    "# question 3\n",
    "# parent class is also called base class.It is also called as super class\n",
    "#child class is also called derived class i.e, it inherits(drives) its properties from base/parent class"
   ]
  },
  {
   "cell_type": "code",
   "execution_count": 10,
   "id": "a00bcad4",
   "metadata": {},
   "outputs": [
    {
     "name": "stdout",
     "output_type": "stream",
     "text": [
      "Name:  Divya\n",
      "Roll No:  10\n",
      "Branch:  Data science\n"
     ]
    }
   ],
   "source": [
    "# question 4\n",
    "\"\"\"\n",
    "Most programming languages has three forms of access modifiers, which are Public, Protected and Private in a class.\n",
    "\n",
    "Python uses ‘_’ symbol to determine the access control for a specific data member or a member function of a class. Access specifiers in Python have an important role to play in securing data from unauthorized access and in preventing it from being exploited.\n",
    "\n",
    "A Class in Python has three types of access modifiers:\n",
    "-->Public Access Modifier\n",
    "-->Protected Access Modifier\n",
    "-->Private Access Modifier\n",
    "# significance of protected access modifier:\n",
    "Protected Access Modifier:\n",
    "The members of a class that are declared protected are only accessible to a class derived from it.\n",
    "Data members of a class are declared protected by adding a single underscore ‘_’ symbol before the data member of that class.\"\"\" \n",
    "# super class\n",
    "class Student:\n",
    "    # protected data members\n",
    "    _name = None\n",
    "    _roll = None\n",
    "    _branch = None\n",
    "     # constructor\n",
    "    def __init__(self, name, roll, branch): \n",
    "        self._name = name\n",
    "        self._roll = roll\n",
    "        self._branch = branch\n",
    "    \n",
    "# protected member function  \n",
    "    def _displayRollAndBranch(self):\n",
    " # accessing protected data members\n",
    "        print(\"Roll No: \", self._roll)\n",
    "        print(\"Branch: \", self._branch)\n",
    " # derived class\n",
    "class Harshitha(Student):\n",
    " # constructor\n",
    "    def __init__(self, name, roll, branch):\n",
    "            Student.__init__(self, name, roll, branch)\n",
    "# public member function\n",
    "    def displayDetails(self):\n",
    "# accessing protected data members of super class\n",
    "        print(\"Name: \", self._name)\n",
    "# accessing protected member functions of super class\n",
    "        self._displayRollAndBranch()\n",
    "     \n",
    "obj = Harshitha(\"Divya\", 10, \"Data science\")\n",
    " \n",
    "# calling public member functions of the class\n",
    "obj.displayDetails() \n",
    "# protected class members are used with in the derived class of base class.Its most commonly used"
   ]
  },
  {
   "cell_type": "code",
   "execution_count": null,
   "id": "989510d2",
   "metadata": {},
   "outputs": [],
   "source": [
    "#private access modifiers\n",
    "\"\"\"\n",
    "-->The members of a class that are declared private are accessible within the class only, \n",
    "-->private access modifier is the most secure access modifier. \n",
    "-->Data members of a class are declared private by adding a double underscore ‘__’ symbol before the data member of that class.\"\"\"\n",
    "#Public Access Modifier:\n",
    "\"\"\"\n",
    "The members of a class that are declared public are easily accessible from any part of the program.\n",
    "All data members and member functions of a class are public by default. \"\"\""
   ]
  },
  {
   "cell_type": "code",
   "execution_count": 18,
   "id": "6a4e03a1",
   "metadata": {},
   "outputs": [
    {
     "name": "stdout",
     "output_type": "stream",
     "text": [
      "The name of person is : 'Divya'\n",
      "My name is 'Divya' and my teaching subject is 'Data science'\n"
     ]
    }
   ],
   "source": [
    "#question 5\n",
    "#super keyword\n",
    "#The super() function is used to give access to methods and properties of a parent or sibling class.\n",
    "\n",
    "#The super() function returns an object that represents the parent class.\n",
    "\n",
    "#Syntax:\n",
    "#super()\n",
    "# for example:\n",
    "#base class\n",
    "class person:\n",
    "    def __init__(self,name):\n",
    "        self.name = name\n",
    "        \n",
    "    def display_name(self):\n",
    "        print(f\"The name of person is : '{self.name}'\")\n",
    "#child class\n",
    "class student(person):\n",
    "    def __init__(self,name,course_type):\n",
    "#super function is used to acess data members of parent class to child class\n",
    "        super().__init__(name)  \n",
    "        self.course_type = course_type\n",
    "    def display_info(self):\n",
    "        super().display_name()\n",
    "        print(f\"My name is '{self.name}' and my teaching subject is '{self.course_type}'\")\n",
    "person1 = student(\"Divya\",'Data science')\n",
    "person1.display_info()"
   ]
  },
  {
   "cell_type": "code",
   "execution_count": null,
   "id": "c8f66aad",
   "metadata": {},
   "outputs": [],
   "source": [
    "#question 6\n",
    "Create a base class called \"Vehicle\" with attributes like \"make\", \"model\", and \"year\".\n",
    "Then, create a derived class called \"Car\" that inherits from \"Vehicle\" and adds an\n",
    "attribute called \"fuel_type\". Implement appropriate methods in both classes."
   ]
  },
  {
   "cell_type": "code",
   "execution_count": 15,
   "id": "a9e04c05",
   "metadata": {},
   "outputs": [
    {
     "name": "stdout",
     "output_type": "stream",
     "text": [
      "The vehicle make is 'Toyota' with model name 'Nissan',which was present in '2023'\n",
      "The car model name is 'Nissan' and its fuel type is 'Diesel'\n"
     ]
    }
   ],
   "source": [
    "class Vehicle:\n",
    "    def __init__(self,make,model,year):\n",
    "        self.make = make\n",
    "        self.model = model\n",
    "        self.year = year\n",
    "    def display_info(self):\n",
    "        print(f\"The vehicle make is '{self.make}' with model name '{self.model}',which was present in '{self.year}'\")\n",
    "        \n",
    "class Car(Vehicle):\n",
    "    def __init__(self,make,model,year,fuel_type):\n",
    "        super().__init__(make,model,year)\n",
    "        self.fuel_type = fuel_type\n",
    "    def display_info(self):\n",
    "        super().display_info()\n",
    "        print(f\"The car model name is '{self.model}' and its fuel type is '{self.fuel_type}'\")\n",
    "obj1 = Car('Toyota','Nissan',2023,'Diesel')\n",
    "obj1.display_info()"
   ]
  },
  {
   "cell_type": "code",
   "execution_count": null,
   "id": "432a2c26",
   "metadata": {},
   "outputs": [],
   "source": [
    "# question 7\n",
    "7. Create a base class called \"Employee\" with attributes like \"name\" and \"salary.\"\n",
    "Derive two classes, \"Manager\" and \"Developer,\" from \"Employee.\" Add an additional\n",
    "attribute called \"department\" for the \"Manager\" class and \"programming_language\"\n",
    "for the \"Developer\" class."
   ]
  },
  {
   "cell_type": "code",
   "execution_count": 22,
   "id": "fc1e8bde",
   "metadata": {},
   "outputs": [
    {
     "name": "stdout",
     "output_type": "stream",
     "text": [
      "Hi,my name is 'Divya' with 75000 salary and iam Manager of department 'Data science'\n",
      "Hi,my name is 'Sathish' with 95000 salary and iam Developer of 'python'\n"
     ]
    }
   ],
   "source": [
    "class Employee:\n",
    "    def __init__(self,name,salary):\n",
    "        self.name = name\n",
    "        self.salary = salary\n",
    "class Manager(Employee):\n",
    "    def __init__(self,name,salary,department):\n",
    "        super().__init__(name,salary)\n",
    "        self.department = department\n",
    "    def manager_info(self):\n",
    "        print(f\"Hi,my name is '{self.name}' with {self.salary} salary and iam Manager of department '{self.department}'\")\n",
    "        \n",
    "class Developer(Employee):\n",
    "    def __init__(self,name,salary,programming_language):\n",
    "        super().__init__(name,salary)\n",
    "        self.programming_language = programming_language\n",
    "    def developer_info(self):\n",
    "        print(f\"Hi,my name is '{self.name}' with {self.salary} salary and iam Developer of '{self.programming_language}'\")\n",
    "        \n",
    "manager = Manager('Divya','75000','Data science')\n",
    "manager.manager_info()\n",
    "developer = Developer('Sathish','95000','python')\n",
    "developer.developer_info()\n",
    "        \n",
    "    "
   ]
  },
  {
   "cell_type": "code",
   "execution_count": null,
   "id": "a915b3ad",
   "metadata": {},
   "outputs": [],
   "source": [
    "#question 8\n",
    "8. Design a base class called \"Shape\" with attributes like \"colour\" and \"border_width.\"\n",
    "Create derived classes, \"Rectangle\" and \"Circle,\" that inherit from \"Shape\" and add\n",
    "specific attributes like \"length\" and \"width\" for the \"Rectangle\" class and \"radius\" for\n",
    "the \"Circle\" class."
   ]
  },
  {
   "cell_type": "code",
   "execution_count": 34,
   "id": "64784e94",
   "metadata": {},
   "outputs": [
    {
     "name": "stdout",
     "output_type": "stream",
     "text": [
      "The color of rectangle is 'red'\n",
      "The area of Rectangle is : 8\n",
      "The color of circle is 'green'\n",
      "The area of circle is : 25\n"
     ]
    }
   ],
   "source": [
    "class Shape:\n",
    "    def __init__(self,color,border_width):\n",
    "        self.color = color\n",
    "        self.border_width = border_width\n",
    "\n",
    "class Rectangle(Shape):\n",
    "    def __init__(self,color,border_width,length,width):\n",
    "        super().__init__(color,border_width)\n",
    "        self.length = length\n",
    "        self.width = width\n",
    "    def area(self):\n",
    "        print(f\"The color of rectangle is '{self.color}'\")\n",
    "        return self.length*self.width\n",
    "    \n",
    "class Circle(Shape):\n",
    "    def __init__(self,color,border_width,radius):\n",
    "        super().__init__(color,border_width)\n",
    "        self.radius = radius \n",
    "    def area_circle(self):\n",
    "        print(f\"The color of circle is '{self.color}'\")\n",
    "        return self.radius**2\n",
    "\n",
    "shape = Rectangle('red',1,2,4)\n",
    "print(\"The area of Rectangle is :\",shape.area())\n",
    "shape = Circle('green',2,5)\n",
    "print(\"The area of circle is :\",shape.area_circle())"
   ]
  },
  {
   "cell_type": "code",
   "execution_count": null,
   "id": "546208a1",
   "metadata": {},
   "outputs": [],
   "source": [
    "# question 9\n",
    "9. Create a base class called \"Device\" with attributes like \"brand\" and \"model.\" Derive\n",
    "two classes, \"Phone\" and \"Tablet,\" from \"Device.\" Add specific attributes like\n",
    "\"screen_size\" for the \"Phone\" class and \"battery_capacity\" for the \"Tablet\" class."
   ]
  },
  {
   "cell_type": "code",
   "execution_count": 39,
   "id": "c10444a8",
   "metadata": {},
   "outputs": [
    {
     "name": "stdout",
     "output_type": "stream",
     "text": [
      "This is my new phone with brand name :'oppo'\n",
      "model is : 'A57'\n",
      "screen size : 5cm\n",
      "This is my new Tablet with brand name :'samsung'\n",
      "model : 'newGEN'\n",
      "battery_capacity : '220w'\n"
     ]
    }
   ],
   "source": [
    "class Device:\n",
    "    def __init__(self,brand,model):\n",
    "        self.brand = brand\n",
    "        self.model = model\n",
    "class Phone(Device):\n",
    "    def __init__(self,brand,model,screen_size):\n",
    "        super().__init__(brand,model)\n",
    "        self.screen_size = screen_size\n",
    "    def display_info(self):\n",
    "        print(f\"This is my new phone with brand name :'{self.brand}'\")\n",
    "        print(f\"model is : '{self.model}'\")\n",
    "        print(f\"screen size : {self.screen_size}\")\n",
    "class Tablet(Device):\n",
    "    def __init__(self,brand,model,battery_capacity):\n",
    "        super().__init__(brand,model)\n",
    "        self.battery_capacity = battery_capacity\n",
    "        \n",
    "    def display_info(self):\n",
    "        print(f\"This is my new Tablet with brand name :'{self.brand}'\")\n",
    "        print(f\"model : '{self.model}'\")\n",
    "        print(f\"battery_capacity : '{self.battery_capacity}'\")\n",
    "phone = Phone('oppo','A57','5cm')\n",
    "phone.display_info()\n",
    "tablet = Tablet('samsung','newGEN','220w')\n",
    "tablet.display_info()"
   ]
  },
  {
   "cell_type": "code",
   "execution_count": null,
   "id": "e78d0813",
   "metadata": {},
   "outputs": [],
   "source": [
    "# question 10\n",
    "10. Create a base class called \"BankAccount\" with attributes like \"account_number\" and\n",
    "\"balance.\" Derive two classes, \"SavingsAccount\" and \"CheckingAccount,\" from\n",
    "\"BankAccount.\" Add specific methods like \"calculate_interest\" for the\n",
    "\"SavingsAccount\" class and \"deduct_fees\" for the \"CheckingAccount\" class."
   ]
  },
  {
   "cell_type": "code",
   "execution_count": 58,
   "id": "afd24345",
   "metadata": {},
   "outputs": [
    {
     "name": "stdout",
     "output_type": "stream",
     "text": [
      "The calculated interest  is:  17.0 %\n",
      "The remaining balance after deduction of fees is 950RS INR\n"
     ]
    }
   ],
   "source": [
    "import math\n",
    "class BankAccount:\n",
    "    def __init__(self,account_number,balance):\n",
    "        self.account_number = account_number\n",
    "        self.balance = balance\n",
    "class savingsAccount(BankAccount):\n",
    "    def __init__(self,account_number,balance,rate,time):\n",
    "        super().__init__(account_number,balance)\n",
    "        self.rate = rate\n",
    "        self.time = time\n",
    "    def calculate_interest(self):\n",
    "        result = math.pow(self.balance*(1 + self.rate),self.time)/100\n",
    "        print(\"The calculated interest  is: \",result,'%')\n",
    "class CheckingAccount(BankAccount):\n",
    "    def __init__(self,account_number,balance,extra_fees):\n",
    "        super().__init__(account_number,balance)\n",
    "        self.extra_fees = extra_fees\n",
    "    def deduct_fees(self):\n",
    "        self.balance -= self.extra_fees\n",
    "        print(f\"The remaining balance after deduction of fees is {self.balance}RS INR\")\n",
    "        \n",
    "account = savingsAccount('23456',1000,0.7,1)\n",
    "account.calculate_interest()\n",
    "account = CheckingAccount('23456',1000,50)\n",
    "account.deduct_fees()\n",
    "        "
   ]
  }
 ],
 "metadata": {
  "kernelspec": {
   "display_name": "Python 3 (ipykernel)",
   "language": "python",
   "name": "python3"
  },
  "language_info": {
   "codemirror_mode": {
    "name": "ipython",
    "version": 3
   },
   "file_extension": ".py",
   "mimetype": "text/x-python",
   "name": "python",
   "nbconvert_exporter": "python",
   "pygments_lexer": "ipython3",
   "version": "3.9.13"
  }
 },
 "nbformat": 4,
 "nbformat_minor": 5
}
